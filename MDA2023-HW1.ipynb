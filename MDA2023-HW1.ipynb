{
  "cells": [
    {
      "cell_type": "markdown",
      "id": "262a1420",
      "metadata": {
        "id": "262a1420"
      },
      "source": [
        "# Data Mining Course Spark Exercise\n",
        "## Sharif University of Technology\n",
        "\n",
        "In this notebook we are going to analyze farsi news.\n",
        "Outline of the exercise:\n",
        "* Dataset preparation\n",
        "* Preprocessing\n",
        "* Exploration\n",
        "* Word Collections\n",
        "\n",
        "You should replace the `TODO` parts with your implementation. Remeber that each `TODO` may take multiple lines and you shouldn't limit your self to one-line codes.\n",
        "\n",
        "## Prerequisites\n",
        "You should be faimilar with [tf-idf](https://en.wikipedia.org/wiki/Tf%E2%80%93idf). In this notebook you should use the following formula for tf-idf:\n",
        "$$f_{t,d}/len(d) \\times log(1 + \\frac{N}{n_t})$$\n",
        "\n",
        "## Warning: RDD api only\n",
        "You **can not** use Dataframe, Dataset, mllib, ml, ... apis of spark in this exercise. You should only use the [RDD api](http://spark.apache.org/docs/2.1.0/api/python/pyspark.html#pyspark.RDD)."
      ]
    },
    {
      "cell_type": "markdown",
      "id": "75576da1",
      "metadata": {
        "id": "75576da1"
      },
      "source": [
        "# Please enter your name below:\n",
        "# Name: Mohammad Mehdi Zare\n",
        "# Student Number: "
      ]
    },
    {
      "cell_type": "markdown",
      "id": "51d038ab",
      "metadata": {
        "id": "51d038ab"
      },
      "source": [
        "# Section 1: Dataset prepartition\n",
        "This section you need to download [dataset](https://drive.google.com/file/d/1bRxHQDzPr6wDimbM7b89H47kH8O3YV8Y/view?usp=sharing) in a directory you work. After that run the below cell to untar the datase.\n",
        "\n",
        "**Note 1: Don't change the below command.**\n",
        "\n",
        "**Note 2: If you use Windows OS, unzip the dataset manually.**"
      ]
    },
    {
      "cell_type": "markdown",
      "id": "04b0ae4f",
      "metadata": {
        "id": "04b0ae4f"
      },
      "source": [
        "## Install Pypark & Initialization\n",
        "Uncomment this section if you use google colab or local pc"
      ]
    },
    {
      "cell_type": "code",
      "execution_count": null,
      "id": "_ZfvRM4tvWJV",
      "metadata": {
        "id": "_ZfvRM4tvWJV"
      },
      "outputs": [],
      "source": [
        "# !pip install arabic_reshaper\n",
        "# !pip install wordcloud\n",
        "# !pip install wordcloud_fa\n",
        "# !pip install python_bidi\n",
        "# !pip install bokeh\n",
        "# !pip install hazm\n",
        "# ! pip install pyspark"
      ]
    },
    {
      "cell_type": "code",
      "execution_count": null,
      "id": "3706a8d1",
      "metadata": {
        "id": "3706a8d1",
        "outputId": "d11d32a9-4e6f-4bca-eaa5-099695b225c7"
      },
      "outputs": [
        {
          "name": "stderr",
          "output_type": "stream",
          "text": [
            "23/12/20 13:32:49 WARN Utils: Your hostname, mojtaba resolves to a loopback address: 127.0.1.1; using 172.17.103.234 instead (on interface wlo1)\n",
            "23/12/20 13:32:49 WARN Utils: Set SPARK_LOCAL_IP if you need to bind to another address\n",
            "Setting default log level to \"WARN\".\n",
            "To adjust logging level use sc.setLogLevel(newLevel). For SparkR, use setLogLevel(newLevel).\n",
            "23/12/20 13:32:50 WARN NativeCodeLoader: Unable to load native-hadoop library for your platform... using builtin-java classes where applicable\n"
          ]
        }
      ],
      "source": [
        "from pyspark.sql import SparkSession\n",
        "spark = SparkSession \\\n",
        "    .builder \\\n",
        "    .appName(\"HW1\") \\\n",
        "    .master(\"local[*]\") \\\n",
        "    .getOrCreate()\n",
        "\n",
        "sc=spark.sparkContext"
      ]
    },
    {
      "cell_type": "code",
      "execution_count": null,
      "id": "a5ceGZtAog19",
      "metadata": {
        "id": "a5ceGZtAog19"
      },
      "outputs": [],
      "source": [
        "# from google.colab import drive\n",
        "\n",
        "# drive.mount('/content/drive')"
      ]
    },
    {
      "cell_type": "code",
      "execution_count": null,
      "id": "_4INjOvTo0y7",
      "metadata": {
        "id": "_4INjOvTo0y7"
      },
      "outputs": [],
      "source": [
        "# unzip data\n",
        "# !tar -xzvf \"/content/drive/MyDrive/big data/data.tar.gz\" -C \"/content/drive/MyDrive/big data/\""
      ]
    },
    {
      "cell_type": "markdown",
      "id": "13157b6b",
      "metadata": {
        "id": "13157b6b"
      },
      "source": [
        "# Reading the data"
      ]
    },
    {
      "cell_type": "code",
      "execution_count": null,
      "id": "2a2f4ee5",
      "metadata": {
        "id": "2a2f4ee5"
      },
      "outputs": [],
      "source": [
        "news_rdd = sc.textFile(\"news_data.jsonl\")\n",
        "\n",
        "# news_rdd=sc.parallelize(news_rdd.takeSample(False, 200000, 12))\n",
        "# news_rdd.count()"
      ]
    },
    {
      "cell_type": "markdown",
      "id": "a056f0d5",
      "metadata": {
        "id": "a056f0d5"
      },
      "source": [
        "# Section 2: Preprocessing\n",
        "This section we try to normalize news and remove useless characters (for example /n and /u200c and ...). Also find and remove stop words."
      ]
    },
    {
      "cell_type": "code",
      "execution_count": null,
      "id": "2c9d2648",
      "metadata": {
        "id": "2c9d2648"
      },
      "outputs": [],
      "source": [
        "# import neccesary packages here\n",
        "import json\n",
        "import string\n",
        "from math import log10\n",
        "from hazm.utils import stopwords_list\n",
        "import numpy as np\n",
        "import matplotlib.pyplot as plt\n",
        "from bidi.algorithm import get_display\n",
        "from arabic_reshaper import reshape"
      ]
    },
    {
      "cell_type": "code",
      "execution_count": null,
      "id": "6B6y-ARj_PUr",
      "metadata": {
        "id": "6B6y-ARj_PUr"
      },
      "outputs": [],
      "source": [
        "news_rdd1= news_rdd\n",
        "json_rdd = news_rdd1.map(lambda x : json.loads(x))\n"
      ]
    },
    {
      "cell_type": "code",
      "execution_count": null,
      "id": "q9d9slkJZKxn",
      "metadata": {
        "id": "q9d9slkJZKxn"
      },
      "outputs": [],
      "source": [
        "# ###          save and load data\n",
        "\n",
        "# json_rdd = json_rdd.map(json.dumps)\n",
        "\n",
        "# # reduce to one big string with one json on each line\n",
        "# json_string = json_rdd.reduce(lambda x, y: x + \"\\n\" + y)\n",
        "\n",
        "# # write your string to a file\n",
        "# with open(\"/content/drive/MyDrive/big data/news_data1.json\", \"w\") as f:\n",
        "    # f.write(json_string)\n",
        "# n = sc.textFile(\"/content/drive/MyDrive/big data/sample.json\")\n",
        "# j = n.map(lambda x : json.loads(x))\n",
        "\n",
        "# j.take(1)"
      ]
    },
    {
      "cell_type": "code",
      "execution_count": null,
      "id": "hS4WenBX5e0Y",
      "metadata": {
        "id": "hS4WenBX5e0Y"
      },
      "outputs": [],
      "source": [
        "\n",
        "def remove_punc(x):\n",
        "    punks = '!\"#$%&()*+,-./:;<=>?@[\\]^_`{|}~1234567890۱۲۳۴۵۶۷۸۹۰،؛'\n",
        "    no_punc = x\n",
        "    for ch in punks:\n",
        "      no_punc = no_punc.replace(ch , \" \")\n",
        "    return no_punc.replace(\"\\n\" , \"\").replace(\"\\u200c\" , \" \")\n",
        "\n",
        "def remove_stopwords(rdd):\n",
        "  stopwords = stopwords_list()\n",
        "  rdd=rdd.replace(\"های\", \"\").replace(\"میشود\", \" \")\n",
        "  rdd = rdd.split()\n",
        "  result = [word for word in rdd if not word in stopwords]\n",
        "  return ' '.join(result)\n",
        "\n",
        "def clean_rdd_util(T , function):\n",
        "  T['body'] = function(T['body'])\n",
        "  T['title'] = T['title'].replace(\"\\u200c\", \" \")\n",
        "  if \"keywords\" in T:\n",
        "    T['keywords']= [function(x) for x in T['keywords']]\n",
        "  else:\n",
        "      T['keywords']=[]\n",
        "  return T\n",
        "\n",
        "\n",
        "def cleaning(rdd):\n",
        "  rdd = rdd.map(lambda x: clean_rdd_util(x , remove_punc))\n",
        "  rdd = rdd.map(lambda x: clean_rdd_util(x, remove_stopwords))\n",
        "  return rdd;"
      ]
    },
    {
      "cell_type": "code",
      "execution_count": null,
      "id": "xf68VaYR4HhS",
      "metadata": {
        "id": "xf68VaYR4HhS"
      },
      "outputs": [],
      "source": [
        "# json_rdd.take(1)"
      ]
    },
    {
      "cell_type": "code",
      "execution_count": null,
      "id": "LvmlqNohzz1o",
      "metadata": {
        "id": "LvmlqNohzz1o"
      },
      "outputs": [],
      "source": [
        "cleaned= cleaning(json_rdd)"
      ]
    },
    {
      "cell_type": "code",
      "execution_count": null,
      "id": "P4qzCicCeZZp",
      "metadata": {
        "colab": {
          "base_uri": "https://localhost:8080/"
        },
        "id": "P4qzCicCeZZp",
        "outputId": "fdc060c9-427b-4c42-85b1-d064f2c40573"
      },
      "outputs": [
        {
          "name": "stderr",
          "output_type": "stream",
          "text": [
            "                                                                                \r"
          ]
        },
        {
          "data": {
            "text/plain": [
              "[{'body': 'سرمربی ملوان تصاویر وایرالی دیدار نساجی پست جالب منتشر گزارش ورزش مهدی تارتار خوشحالی عجیب غریب دقیقه چهره جالب هفته لیگ برتر اختصاص موردتوجه هواداران فوتبال قرار تارتار انتشار پست اینستاگرامی تصاویر جشن خوشحالی نوشته جادوی طرفداران انزلی سرمربی ملوان وعده تیمش ادامه فصل توان خواهد جنگید رضایت هواداران جلب نوشته ادامه میخوانید عکسها نگاه میکنم متحیر میشوم یادم نمیآید هرگز اینطور شوری باشم جادوی شماست سکو آنچنان حس انرژی میدهید لحظه پیروزی برایمان وصفناشدنی سکوها لب خط پای تلویزیونها مستطیل سبز همدل یکصدا میرویم باهم میجنگیم باهم میخندیم هرروز تلاش میکنیم خنده صورت نگه پیروزی شماست مردان نیک چمن مردمان نیک سکو \\U0001fa75🤍',\n",
              "  'image_title_url': 'https://news-cdn.varzesh3.com/pictures/2023/08/09/A/a5l2b23f.jpg',\n",
              "  'language': 'fa',\n",
              "  'source': 'ورزش سه',\n",
              "  'title': 'نوشته خاص تارتار برای لحظه جنجالی (عکس)',\n",
              "  'date_published': 1696909606,\n",
              "  'uid': '68feae4bbbedc2d54adbb2369',\n",
              "  'url': 'https://www.varzesh3.com/news/1971626/%D9%86%D9%88%D8%B4%D8%AA%D9%87-%D8%AE%D8%A7%D8%B5-%D8%AA%D8%A7%D8%B1%D8%AA%D8%A7%D8%B1-%D8%A8%D8%B1%D8%A7%DB%8C-%D9%84%D8%AD%D8%B8%D9%87-%D8%AC%D9%86%D8%AC%D8%A7%D9%84%DB%8C-%D8%B9%DA%A9%D8%B3',\n",
              "  'crawler_timestamp': 1696910655,\n",
              "  'ingestor_timestamp': 1696925866,\n",
              "  'summary': 'سرمربی ملوان درباره تصاویر وایرالی دیدار با نساجی یک پست جالب منتشر کرد.',\n",
              "  'hostname': 'varzesh3.com',\n",
              "  'parser_categories': [],\n",
              "  'keywords': ['سرمربی ملوان', 'لیگ برتر', 'مستطیل سبز', 'انزلی'],\n",
              "  'parser_keyword': ['ملوان',\n",
              "   'نساجی مازندران',\n",
              "   'مهدی تارتار',\n",
              "   'لیگ برتر ایران',\n",
              "   'فوتبال'],\n",
              "  'author': '',\n",
              "  'processed_body': 'به گزارش “ورزش سه”، مهدی تارتار با خوشحالی عجیب و غریب دقیقه ۹۰+۳ یکی از چهره\\u200cهای جالب این هفته لیگ برتر را به خود اختصاص داد که موردتوجه هواداران فوتبال قرار گرفت.\\n\\nتارتار حالا با انتشار یک پست اینستاگرامی از تصاویر جشن و خوشحالی خود نوشته که این جادوی طرفداران انزلی است که او را از خود بی خود کرده است.\\n\\nسرمربی ملوان همچنین وعده داده که تیمش در ادامه فصل نیز با تمام توان خواهد جنگید تا رضایت هواداران را به خود جلب کند.\\n\\nنوشته او را در ادامه می\\u200cخوانید:\\n\\nحالا که به عکس\\u200cها نگاه می\\u200cکنم، متحیر می\\u200cشوم. یادم نمی\\u200cآید هرگز اینطور شوری گرفته باشم. این جادوی شماست، شما که روی سکو آنچنان حس و انرژی به ما می\\u200cدهید که لحظه پیروزی برایمان وصف\\u200cناشدنی باشد. از روی سکوها تا لب خط، از پای تلویزیون\\u200cها تا در مستطیل سبز؛ ما همدل و یکصدا پیش می\\u200cرویم. باهم می\\u200cجنگیم و باهم می\\u200cخندیم و هرروز تلاش می\\u200cکنیم تا این خنده را روی صورت شما نگه داریم. این پیروزی برای شماست، شما مردان نیک روی چمن و شما مردمان نیک روی سکو \\U0001fa75🤍',\n",
              "  'categories': ['sports'],\n",
              "  'ner_tags': [{'type': 'PER', 'entity': 'تارتار'},\n",
              "   {'type': 'POST', 'entity': 'سرمربی ملوان'},\n",
              "   {'type': 'ORG', 'entity': 'وایرالی'},\n",
              "   {'type': 'ORG', 'entity': 'ورزش سه'},\n",
              "   {'type': 'PER', 'entity': 'مهدی تارتار'},\n",
              "   {'type': 'EVE', 'entity': 'لیگ برتر'},\n",
              "   {'type': 'PER', 'entity': 'تارتار'},\n",
              "   {'type': 'GPE', 'entity': 'انزلی'},\n",
              "   {'type': 'POST', 'entity': 'سرمربی ملوان'}]}]"
            ]
          },
          "execution_count": 12,
          "metadata": {},
          "output_type": "execute_result"
        }
      ],
      "source": [
        "cleaned.take(1)"
      ]
    },
    {
      "cell_type": "code",
      "execution_count": null,
      "id": "8a24d622",
      "metadata": {
        "colab": {
          "base_uri": "https://localhost:8080/",
          "height": 35
        },
        "id": "8a24d622",
        "outputId": "c708e897-4d22-4f40-ea17-552871312df5"
      },
      "outputs": [
        {
          "data": {
            "text/plain": [
              "'\\nTODO\\nStep 1: Remove useless charachters.\\nStep 2: Find and Remove stop words.\\n'"
            ]
          },
          "execution_count": 13,
          "metadata": {},
          "output_type": "execute_result"
        }
      ],
      "source": [
        "\"\"\"\n",
        "TODO\n",
        "Step 1: Remove useless charachters.\n",
        "Step 2: Find and Remove stop words.\n",
        "\"\"\"\n",
        "\n",
        "# clean_news_rdd = ... #TODO: remove useless charachters\n",
        "# processed_news_rdd = ... #TODO: find and remove stopwords."
      ]
    },
    {
      "cell_type": "markdown",
      "id": "eb7810f8",
      "metadata": {
        "id": "eb7810f8"
      },
      "source": [
        "# Section 3: Exploration\n",
        "Please answer the following questions regarding the dataset:\n",
        "- what are the titles and urls of 5 longest news?\n",
        "- what are the 20 most frequent words? (Plot the distribution of these words)\n",
        "- find the `word clouds` of the news.\n",
        "    - you need to use `keywords` field.\n",
        "    - score = $2^{log_{10}(count)}$ ( count is the number of the each keyword)\n",
        "    - you should normalize scores.\n",
        "    - use ***wordcloud*** package for showing the result.\n",
        "- plot a timeline which shows total count of news per each day.\n",
        "- plot a timeline which shows total count of news per each day that have at least one of the word clouds.\n",
        "- what is your inference about the below timeline."
      ]
    },
    {
      "cell_type": "code",
      "execution_count": null,
      "id": "831fbce4",
      "metadata": {
        "id": "831fbce4"
      },
      "outputs": [],
      "source": [
        "# TODO: find the answers of the above questions.\n",
        "# p1\n",
        "\n",
        "longest = cleaned.map(lambda x: ( len(x['body']) , (x['url'] , x['title'])))\n"
      ]
    },
    {
      "cell_type": "code",
      "execution_count": null,
      "id": "REOkloU_8vPs",
      "metadata": {
        "id": "REOkloU_8vPs",
        "outputId": "32364622-b1e3-478f-c532-1fb5cec56b99"
      },
      "outputs": [
        {
          "name": "stderr",
          "output_type": "stream",
          "text": [
            "                                                                                \r"
          ]
        },
        {
          "data": {
            "image/png": "[encoded data removed]",
            "text/plain": [
              "<Figure size 640x480 with 1 Axes>"
            ]
          },
          "metadata": {},
          "output_type": "display_data"
        }
      ],
      "source": [
        "# p2\n",
        "support1=50000\n",
        "\n",
        "most_frequent = cleaned.map(lambda x: x['body']).flatMap(lambda x: x.split()).map(lambda x: (x , 1)).reduceByKey(lambda x, y: x + y).map(lambda x: (x[1] , x[0])).filter(lambda x : x[0]>support1)\n",
        "\n",
        "t=most_frequent.top(20)\n",
        "indices = np.arange(len(t))\n",
        "counts = [x[0] for x in t]\n",
        "words = [get_display(reshape(x[1])) for x in t]\n",
        "\n",
        "plt.plot(words,counts)\n",
        "plt.xticks(indices, words, rotation='vertical')\n",
        "plt.show()"
      ]
    },
    {
      "cell_type": "code",
      "execution_count": null,
      "id": "FGQaz3Zr_JD1",
      "metadata": {
        "id": "FGQaz3Zr_JD1",
        "outputId": "8c66ef98-693f-4f64-84c2-de5c83e1bdf1"
      },
      "outputs": [
        {
          "name": "stderr",
          "output_type": "stream",
          "text": [
            "                                                                                \r"
          ]
        }
      ],
      "source": [
        "# p3  how handle?? for each key word\n",
        "# most frequent item Set algorithm (A prior) :\n",
        "\n",
        "support2=10000\n",
        "support3=2000\n",
        "\n",
        "def filter_pass_1(keyword, frequent_items):\n",
        "  keyword_splited= keyword.split()\n",
        "  for word in keyword_splited:\n",
        "    if word not in frequent_items:\n",
        "      return False\n",
        "  return True\n",
        "\n",
        "\n",
        "\n",
        "frequent_items= dict(most_frequent.map(lambda x: (x[1] , x[0])).collect())\n",
        "C= cleaned.flatMap(lambda x : x['keywords']).distinct().filter(lambda x: filter_pass_1(x, frequent_items)).map(lambda x: ([(frequent_items[y],y) for y in x.split()],x))\n",
        "\n",
        "itemCandidate = C.filter(lambda x: len(x[0])==1)\n",
        "pairCandidate = C.filter(lambda x: len(x[0])==2)\n",
        "tripleCandidate = C.filter(lambda x: len(x[0])==3)\n"
      ]
    },
    {
      "cell_type": "code",
      "execution_count": null,
      "id": "Al8ny0UD0MV8",
      "metadata": {
        "colab": {
          "base_uri": "https://localhost:8080/"
        },
        "id": "Al8ny0UD0MV8",
        "outputId": "27341e6a-e022-4e07-eaff-98754edfb123"
      },
      "outputs": [
        {
          "name": "stderr",
          "output_type": "stream",
          "text": [
            "                                                                                \r"
          ]
        },
        {
          "data": {
            "text/plain": [
              "[([(129336, 'دستگاه'), (83227, 'اجرایی')], 'دستگاه اجرایی')]"
            ]
          },
          "execution_count": 17,
          "metadata": {},
          "output_type": "execute_result"
        }
      ],
      "source": [
        "pairCandidate.take(1)"
      ]
    },
    {
      "cell_type": "code",
      "execution_count": null,
      "id": "rpz-6f_I7dKk",
      "metadata": {
        "id": "rpz-6f_I7dKk"
      },
      "outputs": [],
      "source": [
        "def ngrams(text, size):\n",
        "    tokens = text.split()\n",
        "    return [' '.join(tokens[i:i+size]) for i in range(len(tokens) - size + 1)]\n"
      ]
    },
    {
      "cell_type": "code",
      "execution_count": null,
      "id": "6Nxanu4uwznS",
      "metadata": {
        "id": "6Nxanu4uwznS",
        "outputId": "38b9abbd-ea1b-4561-dc99-c3f9fd8d4901"
      },
      "outputs": [
        {
          "name": "stderr",
          "output_type": "stream",
          "text": [
            "                                                                                \r"
          ]
        },
        {
          "data": {
            "text/plain": [
              "[('دستگاه اجرایی', 19.001248840235984),\n",
              " ('شورای امنیت', 20.3874260345832),\n",
              " ('امام جمعه', 18.888020313147837),\n",
              " ('وزیر دفاع', 16.337940974042976),\n",
              " ('وزیر خارجه', 20.797836535122993),\n",
              " ('شهرداری تهران', 17.53497654910928),\n",
              " ('کشور منطقه', 16.93611400999633),\n",
              " ('خارجه آمریکا', 16.607576900008834),\n",
              " ('ایران خودرو', 16.147721057147624),\n",
              " ('رژیم صهیونیستی', 40.124503935191676),\n",
              " ('مقاومت اسلامی', 16.61066826685147),\n",
              " ('استان تهران', 19.964374144398057),\n",
              " ('افزایش قیمت', 18.832789575440106),\n",
              " ('تیم ملی', 32.65430034383315),\n",
              " ('ارتش رژیم', 22.055573673248333),\n",
              " ('عملیات طوفان', 22.484908522520804),\n",
              " ('وزارت امور', 19.077473663956994),\n",
              " ('رئیس سازمان', 22.36946604905482),\n",
              " ('تیم فوتبال', 20.926588232491405),\n",
              " ('معاون وزیر', 16.7310721051012),\n",
              " ('طوفان الاقصی', 26.009903033752877),\n",
              " ('بهداشت درمان', 16.326460834877764),\n",
              " ('ادامه مطلب', 27.241645658487972),\n",
              " ('زنان کودکان', 16.729335152808996),\n",
              " ('سازمان لیگ', 16.497181055345997),\n",
              " ('پایگاه خبری', 17.050858106037662),\n",
              " ('فدراسیون فوتبال', 19.937830053586687),\n",
              " ('ارتش اسرائیل', 18.803708461883193),\n",
              " ('بازار سرمایه', 16.28821172375884),\n",
              " ('فلسطین اشغالی', 17.43739702560336),\n",
              " ('شورای اسلامی', 28.010584217656465),\n",
              " ('استان اصفهان', 16.05612390480632),\n",
              " ('نماینده مردم', 16.814387232881355),\n",
              " ('سال آینده', 19.66894971759676),\n",
              " ('آبان ماه', 20.16032895782762),\n",
              " ('رئیس مجلس', 16.847361014352014),\n",
              " ('استان فارس', 17.591996899892838),\n",
              " ('نمایندگان مجلس', 16.913286105304152),\n",
              " ('شهریور ماه', 17.020045625824057),\n",
              " ('ماه سال', 17.94354112875515),\n",
              " ('نیرو مقاومت', 17.7510775268757),\n",
              " ('برنامه هفتم', 23.21483082809064),\n",
              " ('دانشگاه تهران', 16.556597752543055),\n",
              " ('علوم پزشکی', 21.002452639857992),\n",
              " ('وزیر امور', 22.835676111056042),\n",
              " ('لیگ برتر', 23.4538827488816),\n",
              " ('مقاومت فلسطین', 21.02496060780643),\n",
              " ('فوتبال ایران', 18.650303744687264),\n",
              " ('باشگاه استقلال', 18.291440088200197),\n",
              " ('شورای شهر', 16.580137710381848),\n",
              " ('روز جمعه', 19.15616930995525),\n",
              " ('مجلس شورای', 26.61499745190064),\n",
              " ('مدال طلا', 16.433642995126956),\n",
              " ('ورزش جوانان', 17.554807859090605),\n",
              " ('امور خارجه', 26.110145044808608),\n",
              " ('رئیس جمهور', 27.42734011196269),\n",
              " ('انقلاب اسلامی', 24.93161863751307),\n",
              " ('سخنگوی وزارت', 17.26906570699489),\n",
              " ('سیاست خارجی', 17.330134865779012),\n",
              " ('کشور اسلامی', 18.06802401168926),\n",
              " ('مردم ایران', 16.853767066761794),\n",
              " ('اسلامی شهر', 16.20500519888114),\n",
              " ('ثبت نام', 23.854533492816245),\n",
              " ('وزارت کشور', 16.28636311894608),\n",
              " ('وزارت خارجه', 18.51006730795712),\n",
              " ('بانک مرکزی', 23.26018983874267),\n",
              " ('آموزش پرورش', 26.130209918066306),\n",
              " ('دفاع مقدس', 23.83221592978215),\n",
              " ('حماس اسرائیل', 16.292369304386174),\n",
              " ('جهاد کشاورزی', 20.531123165606367),\n",
              " ('ملی فوتبال', 17.429504120730385),\n",
              " ('افزایش درصدی', 17.38514971687975),\n",
              " ('جنگ غزه', 16.849924113937387),\n",
              " ('وزارت دفاع', 16.49852676701622),\n",
              " ('آذربایجان غربی', 16.16702489032201),\n",
              " ('ماده قانون', 18.448709242532367),\n",
              " ('انتخابات مجلس', 17.07657479008204),\n",
              " ('برنامه بودجه', 17.187123835711926),\n",
              " ('جمهوری آذربایجان', 18.300965025889052),\n",
              " ('قیمت دلار', 16.864431274049725),\n",
              " ('روابط عمومی', 21.30938608466366),\n",
              " ('سازمان ملل', 28.216298535131415),\n",
              " ('پایان سال', 18.8630814841573),\n",
              " ('وزارت بهداشت', 21.703465748851688),\n",
              " ('باشگاه پرسپولیس', 19.268914806711187),\n",
              " ('دانشگاه علوم', 20.436404658989414),\n",
              " ('اسلامی ایران', 28.497138509549092),\n",
              " ('رژیم اسرائیل', 16.890811158357817),\n",
              " ('ملی ایران', 16.235800000714743),\n",
              " ('جمهوری اسلامی', 32.954109400649784),\n",
              " ('تامین اجتماعی', 18.49975913735623),\n",
              " ('مهر ماه', 19.047968352753838),\n",
              " ('سازمان برنامه', 16.03123626130541),\n",
              " ('خراسان جنوبی', 18.60530119404062),\n",
              " ('شهر تهران', 20.791546832609708),\n",
              " ('دانشگاه آزاد', 16.441786022240695),\n",
              " ('رییس جمهور', 16.633150866915926),\n",
              " ('سال گذشته', 31.76939024795802),\n",
              " ('روز شنبه', 22.249488073449616),\n",
              " ('امنیت ملی', 18.439360632158362),\n",
              " ('هفتم توسعه', 20.674913075024715),\n",
              " ('شبکه اجتماعی', 19.968118338257252)]"
            ]
          },
          "execution_count": 19,
          "metadata": {},
          "output_type": "execute_result"
        }
      ],
      "source": [
        "#  check pair candidate\n",
        "pairCandidate = pairCandidate.map(lambda x: x[1]).collect()\n",
        "\n",
        "\n",
        "shingeled2 = cleaned.map(lambda x: x['body']).map(lambda x : ngrams(x,2)).flatMap(lambda list:list).map(lambda x: (x,1)).reduceByKey(lambda x,y : x+y)\n",
        "shingeled2= shingeled2.filter(lambda x: x[1] >= support2).map(lambda x: (x[1] , x[0]))\n",
        "suitable_2grams = shingeled2.filter(lambda x: x[1] in pairCandidate).map(lambda x: (x[1] , 2**np.log10(x[0]))).collect()\n",
        "\n",
        "suitable_2grams\n"
      ]
    },
    {
      "cell_type": "code",
      "execution_count": null,
      "id": "Tc9RWKaZwzoj",
      "metadata": {
        "id": "Tc9RWKaZwzoj",
        "outputId": "33669683-3402-4857-bebf-2d54232ff64e"
      },
      "outputs": [
        {
          "name": "stderr",
          "output_type": "stream",
          "text": [
            "                                                                                \r"
          ]
        },
        {
          "data": {
            "text/plain": [
              "[('اسلامی فلسطین حماس', 10.769984661021345),\n",
              " ('رئیس جمهور ترکیه', 10.000584643033845),\n",
              " ('وزارت جهاد کشاورزی', 12.620743114711324),\n",
              " ('وزیر آموزش پرورش', 14.745878277348835),\n",
              " ('مدیر روابط عمومی', 10.024898074092235),\n",
              " ('ارتش جمهوری اسلامی', 11.648547340745445),\n",
              " ('سازمان همکاری اسلامی', 12.972671677495153),\n",
              " ('سخنگوی ارتش رژیم', 10.471937252296422),\n",
              " ('سخنگوی وزارت خارجه', 11.957000311745773),\n",
              " ('وزارت بهداشت درمان', 11.24398409846788),\n",
              " ('مقاومت اسلامی فلسطین', 11.94751944051545),\n",
              " ('ستاد انتخابات استان', 10.131954159524522),\n",
              " ('اداره ورزش جوانان', 11.322018352581155),\n",
              " ('رئیس مجلس شورای', 13.336902147683782),\n",
              " ('وزیر خارجه آمریکا', 12.1567488726048),\n",
              " ('برنامه هفتم توسعه', 20.57179186848468),\n",
              " ('مجلس شورای اسلامی', 26.36280914312627),\n",
              " ('کمیسیون امنیت ملی', 12.026622348105004),\n",
              " ('نمایندگان مجلس شورای', 12.65738343243908),\n",
              " ('وزارت بهداشت فلسطین', 13.883064779778664),\n",
              " ('کمیسیون برنامه بودجه', 10.359712082032296),\n",
              " ('جنایات رژیم صهیونیستی', 16.91667253231998),\n",
              " ('ملی فوتبال ایران', 12.184928483601654),\n",
              " ('جهاد اسلامی فلسطین', 10.339846384284392),\n",
              " ('مدیر جهاد کشاورزی', 10.174877094332498),\n",
              " ('روابط عمومی سازمان', 10.549877440825748),\n",
              " ('هفته دفاع مقدس', 14.560386875170519),\n",
              " ('نیرو مقاومت فلسطین', 12.990671319499107),\n",
              " ('شورای امنیت ملی', 12.556021707534098),\n",
              " ('رقابت لیگ برتر', 10.98357791847031),\n",
              " ('حمله رژیم صهیونیستی', 10.786858690861077),\n",
              " ('دانشگاه آزاد اسلامی', 14.766221191666068),\n",
              " ('وزارت خارجه آمریکا', 11.007742972075317),\n",
              " ('شورای اسلامی شهر', 15.943415220633788),\n",
              " ('امور خارجه آمریکا', 11.996630611710206),\n",
              " ('حماس جهاد اسلامی', 10.283745720034737),\n",
              " ('مسابقات لیگ برتر', 9.973247374646826),\n",
              " ('تیم ملی ایران', 14.054043428421695),\n",
              " ('شورای امنیت سازمان', 14.226654278756909),\n",
              " ('رئیس سازمان برنامه', 11.126759527074391),\n",
              " ('شورای شهر تهران', 11.896018306804153),\n",
              " ('جنایت رژیم صهیونیستی', 12.799920148466905),\n",
              " ('اداره آموزش پرورش', 10.043398732319242),\n",
              " ('وزارت بهداشت غزه', 11.754118545164173),\n",
              " ('مقاومت اسلامی عراق', 9.981898984919251),\n",
              " ('پیروزی انقلاب اسلامی', 11.192358761820591),\n",
              " ('حمله حماس اسرائیل', 10.73361785594165),\n",
              " ('وزیر جهاد کشاورزی', 10.987037629813901),\n",
              " ('وزارت ورزش جوانان', 11.417838055528017),\n",
              " ('ماه سال گذشته', 10.040557626257097),\n",
              " ('وزارت امور خارجه', 18.07274426424063),\n",
              " ('حملات رژیم صهیونیستی', 14.48681442576405),\n",
              " ('مرکز آمار ایران', 10.325221683813675),\n",
              " ('رئیس جمهور روسیه', 10.813251845920833),\n",
              " ('عمومی سازمان ملل', 15.419647044460561),\n",
              " ('تیم فوتبال استقلال', 11.359504759116302),\n",
              " ('استان آذربایجان غربی', 10.036292463936695),\n",
              " ('شورای فرهنگ عمومی', 9.961684717085314),\n",
              " ('سازمان بهداشت جهانی', 10.053327936861773),\n",
              " ('وزیر امور خارجه', 22.348206357560016),\n",
              " ('دانشگاه علوم پزشکی', 20.115152696647748),\n",
              " ('سازمان برنامه بودجه', 15.5649913844055),\n",
              " ('حمایت مردم فلسطین', 11.36270454097541),\n",
              " ('جمهوری اسلامی ایران', 27.95402301506879),\n",
              " ('عملیات طوفان الاقصی', 22.17212351932621),\n",
              " ('برنامه بودجه کشور', 10.25136648224747),\n",
              " ('سخنگوی وزارت امور', 13.076735610090989),\n",
              " ('انتخابات مجلس شورای', 12.898498226996868),\n",
              " ('دوره انتخابات مجلس', 10.366314365386165),\n",
              " ('قانون بودجه سال', 10.159694546034187),\n",
              " ('امور خارجه ایران', 12.29349736986105),\n",
              " ('سازمان جهانی بهداشت', 10.266236403971574),\n",
              " ('ارتش رژیم صهیونیستی', 20.642182955948627),\n",
              " ('معاون سیاسی امنیتی', 11.649553715735227),\n",
              " ('لیگ برتر فوتبال', 12.066652281248627),\n",
              " ('وزیر دفاع آمریکا', 10.000584643033845),\n",
              " ('سازمان منطقه آزاد', 10.429205282539195),\n",
              " ('ستاد انتخابات کشور', 9.966024364394226),\n",
              " ('اسلامی شهر تهران', 12.199413786241154),\n",
              " ('جهاد کشاورزی استان', 11.457740404434842),\n",
              " ('مدیرکل آموزش پرورش', 10.597762428665076),\n",
              " ('آموزش پرورش استان', 12.59393965574556),\n",
              " ('نظام جمهوری اسلامی', 12.29172087243663),\n",
              " ('مجلس نمایندگان آمریکا', 11.231950903942582),\n",
              " ('سازمان تامین اجتماعی', 12.750370930273169),\n",
              " ('تیم فوتبال پرسپولیس', 13.3118561076732),\n",
              " ('سازمان تأمین اجتماعی', 10.87386732808467),\n",
              " ('منطقه غرب آسیا', 10.03059902577953),\n",
              " ('پلیس امنیت اقتصادی', 10.947678465599717),\n",
              " ('شورای انقلاب فرهنگی', 14.059898472570195),\n",
              " ('بازی تیم ملی', 10.070296645626167),\n",
              " ('زن زندگی آزادی', 11.473402874713665),\n",
              " ('جنگ رژیم صهیونیستی', 12.081468725408842),\n",
              " ('رئیس فدراسیون فوتبال', 10.575142817004942),\n",
              " ('رئیس جمهور آمریکا', 13.011727712786273),\n",
              " ('تیم ملی فوتبال', 17.068703428958077),\n",
              " ('انقلاب اسلامی ایران', 10.240520454262835),\n",
              " ('معاون رئیس جمهور', 13.3214454479686),\n",
              " ('سال دفاع مقدس', 11.220985600939471),\n",
              " ('وزیر رژیم صهیونیستی', 10.973183573031912),\n",
              " ('سازمان جهاد کشاورزی', 14.189211547012686),\n",
              " ('وزارت آموزش پرورش', 15.585499302769465)]"
            ]
          },
          "execution_count": 20,
          "metadata": {},
          "output_type": "execute_result"
        }
      ],
      "source": [
        "tripleCandidate = tripleCandidate.map(lambda x: x[1]).collect()\n",
        "\n",
        "shingeled3 = cleaned.map(lambda x: x['body']).map(lambda x : ngrams(x,3)).flatMap(lambda list:list).map(lambda x: (x,1)).reduceByKey(lambda x,y : x+y)\n",
        "shingeled3 = shingeled3.filter(lambda x: x[1] >= support3).map(lambda x: (x[1] , x[0]))\n",
        "suitable_3grams = shingeled3.filter(lambda x: x[1] in tripleCandidate)\n",
        "sets3=shingeled3\n",
        "suitable_3grams=suitable_3grams.map(lambda x: (x[1] , 2**np.log10(x[0]))).collect()\n",
        "suitable_3grams"
      ]
    },
    {
      "cell_type": "code",
      "execution_count": null,
      "id": "PDbWW-L073o1",
      "metadata": {
        "id": "PDbWW-L073o1",
        "outputId": "48abb8a3-cc48-400b-d64b-bb7973acb660"
      },
      "outputs": [
        {
          "name": "stderr",
          "output_type": "stream",
          "text": [
            "                                                                                \r"
          ]
        },
        {
          "data": {
            "text/plain": [
              "{'ﯽﯾﺍﺮﺟﺍ ﻩﺎﮕﺘﺳﺩ': 0.005696978309848456,\n",
              " 'ﺖﯿﻨﻣﺍ ﯼﺍﺭﻮﺷ': 0.006112583698536404,\n",
              " 'ﻪﻌﻤﺟ ﻡﺎﻣﺍ': 0.005663029990540553,\n",
              " 'ﻉﺎﻓﺩ ﺮﯾﺯﻭ': 0.004898461997908935,\n",
              " 'ﻪﺟﺭﺎﺧ ﺮﯾﺯﻭ': 0.006235633490651026,\n",
              " 'ﻥﺍﺮﻬﺗ ﯼﺭﺍﺩﺮﻬﺷ': 0.005257358708572981,\n",
              " 'ﻪﻘﻄﻨﻣ ﺭﻮﺸﮐ': 0.005077806989388986,\n",
              " 'ﺎﮑﯾﺮﻣﺁ ﻪﺟﺭﺎﺧ': 0.004979304580135984,\n",
              " 'ﻭﺭﺩﻮﺧ ﻥﺍﺮﯾﺍ': 0.004841430023338966,\n",
              " 'ﯽﺘﺴﯿﻧﻮﯿﻬﺻ ﻢﯾﮊﺭ': 0.012030179202125384,\n",
              " 'ﯽﻣﻼﺳﺍ ﺖﻣﻭﺎﻘﻣ': 0.004980231437628266,\n",
              " 'ﻥﺍﺮﻬﺗ ﻥﺎﺘﺳﺍ': 0.005985743749089416,\n",
              " 'ﺖﻤﯿﻗ ﺶﯾﺍﺰﻓﺍ': 0.0056464706413418,\n",
              " 'ﯽﻠﻣ ﻢﯿﺗ': 0.009790453372104992,\n",
              " 'ﻢﯾﮊﺭ ﺶﺗﺭﺍ': 0.006612729820246904,\n",
              " 'ﻥﺎﻓﻮﻃ ﺕﺎﯿﻠﻤﻋ': 0.006741453534384472,\n",
              " 'ﺭﻮﻣﺍ ﺕﺭﺍﺯﻭ': 0.005719832132303066,\n",
              " 'ﻥﺎﻣﺯﺎﺳ ﺲﯿﺋﺭ': 0.006706841426890868,\n",
              " 'ﻝﺎﺒﺗﻮﻓ ﻢﯿﺗ': 0.006274235986383349,\n",
              " 'ﺮﯾﺯﻭ ﻥﻭﺎﻌﻣ': 0.005016331067747246,\n",
              " 'ﯽﺼﻗﻻﺍ ﻥﺎﻓﻮﻃ': 0.00779832181928898,\n",
              " 'ﻥﺎﻣﺭﺩ ﺖﺷﺍﺪﻬﺑ': 0.0048950200081550954,\n",
              " 'ﺐﻠﻄﻣ ﻪﻣﺍﺩﺍ': 0.008167624441207829,\n",
              " 'ﻥﺎﮐﺩﻮﮐ ﻥﺎﻧﺯ': 0.005015810292527831,\n",
              " 'ﮓﯿﻟ ﻥﺎﻣﺯﺎﺳ': 0.004946205559233221,\n",
              " 'ﯼﺮﺒﺧ ﻩﺎﮕﯾﺎﭘ': 0.0051122097084853445,\n",
              " 'ﻝﺎﺒﺗﻮﻓ ﻥﻮﯿﺳﺍﺭﺪﻓ': 0.005977785266419225,\n",
              " 'ﻞﯿﺋﺍﺮﺳﺍ ﺶﺗﺭﺍ': 0.005637751505323268,\n",
              " 'ﻪﯾﺎﻣﺮﺳ ﺭﺍﺯﺎﺑ': 0.004883552111584315,\n",
              " 'ﯽﻟﺎﻐﺷﺍ ﻦﯿﻄﺴﻠﻓ': 0.005228102293188251,\n",
              " 'ﯽﻣﻼﺳﺍ ﯼﺍﺭﻮﺷ': 0.008398168566492524,\n",
              " 'ﻥﺎﻬﻔﺻﺍ ﻥﺎﺘﺳﺍ': 0.004813967249996021,\n",
              " 'ﻡﺩﺮﻣ ﻩﺪﻨﯾﺎﻤﻧ': 0.005041310714076634,\n",
              " 'ﻩﺪﻨﯾﺁ ﻝﺎﺳ': 0.005897169226128456,\n",
              " 'ﻩﺎﻣ ﻥﺎﺑﺁ': 0.006044495167546434,\n",
              " 'ﺲﻠﺠﻣ ﺲﯿﺋﺭ': 0.005051196954681738,\n",
              " 'ﺱﺭﺎﻓ ﻥﺎﺘﺳﺍ': 0.005274454621813484,\n",
              " 'ﺲﻠﺠﻣ ﻥﺎﮔﺪﻨﯾﺎﻤﻧ': 0.005070962698311906,\n",
              " 'ﻩﺎﻣ ﺭﻮﯾﺮﻬﺷ': 0.005102971471939659,\n",
              " 'ﻝﺎﺳ ﻩﺎﻣ': 0.0053798550543650596,\n",
              " 'ﺖﻣﻭﺎﻘﻣ ﻭﺮﯿﻧ': 0.0053221503753430825,\n",
              " 'ﻢﺘﻔﻫ ﻪﻣﺎﻧﺮﺑ': 0.006960299757475895,\n",
              " 'ﻥﺍﺮﻬﺗ ﻩﺎﮕﺸﻧﺍﺩ': 0.004964019948067375,\n",
              " 'ﯽﮑﺷﺰﭘ ﻡﻮﻠﻋ': 0.00629698174835357,\n",
              " 'ﺭﻮﻣﺍ ﺮﯾﺯﻭ': 0.006846621113657029,\n",
              " 'ﺮﺗﺮﺑ ﮓﯿﻟ': 0.007031972604830532,\n",
              " 'ﻦﯿﻄﺴﻠﻓ ﺖﻣﻭﺎﻘﻣ': 0.006303730115594017,\n",
              " 'ﻥﺍﺮﯾﺍ ﻝﺎﺒﺗﻮﻓ': 0.005591757510200009,\n",
              " 'ﻝﻼﻘﺘﺳﺍ ﻩﺎﮕﺷﺎﺑ': 0.00548416255765823,\n",
              " 'ﺮﻬﺷ ﯼﺍﺭﻮﺷ': 0.004971077727813849,\n",
              " 'ﻪﻌﻤﺟ ﺯﻭﺭ': 0.005743426759798403,\n",
              " 'ﯼﺍﺭﻮﺷ ﺲﻠﺠﻣ': 0.007979741988278007,\n",
              " 'ﻼﻃ ﻝﺍﺪﻣ': 0.004927155498157696,\n",
              " 'ﻥﺎﻧﺍﻮﺟ ﺵﺯﺭﻭ': 0.00526330455685745,\n",
              " 'ﻪﺟﺭﺎﺧ ﺭﻮﻣﺍ': 0.00782837650503736,\n",
              " 'ﺭﻮﻬﻤﺟ ﺲﯿﺋﺭ': 0.008223299585646993,\n",
              " 'ﯽﻣﻼﺳﺍ ﺏﻼﻘﻧﺍ': 0.007475029236318421,\n",
              " 'ﺕﺭﺍﺯﻭ ﯼﻮﮕﻨﺨﺳ': 0.0051776329856683175,\n",
              " 'ﯽﺟﺭﺎﺧ ﺖﺳﺎﯿﺳ': 0.0051959428176124745,\n",
              " 'ﯽﻣﻼﺳﺍ ﺭﻮﺸﮐ': 0.00541717766878824,\n",
              " 'ﻥﺍﺮﯾﺍ ﻡﺩﺮﻣ': 0.005053117625366972,\n",
              " 'ﺮﻬﺷ ﯽﻣﻼﺳﺍ': 0.004858605026713642,\n",
              " 'ﻡﺎﻧ ﺖﺒﺛ': 0.007152096214452813,\n",
              " 'ﺭﻮﺸﮐ ﺕﺭﺍﺯﻭ': 0.004882997860565851,\n",
              " 'ﻪﺟﺭﺎﺧ ﺕﺭﺍﺯﻭ': 0.005549711645477144,\n",
              " 'ﯼﺰﮐﺮﻣ ﮏﻧﺎﺑ': 0.006973899353061086,\n",
              " 'ﺵﺭﻭﺮﭘ ﺵﺯﻮﻣﺁ': 0.007834392380556917,\n",
              " 'ﺱﺪﻘﻣ ﻉﺎﻓﺩ': 0.007145404934653104,\n",
              " 'ﻞﯿﺋﺍﺮﺳﺍ ﺱﺎﻤﺣ': 0.004884798642633643,\n",
              " 'ﯼﺯﺭﻭﺎﺸﮐ ﺩﺎﻬﺟ': 0.006155667152971931,\n",
              " 'ﻝﺎﺒﺗﻮﻓ ﯽﻠﻣ': 0.0052257358325286845,\n",
              " 'ﯼﺪﺻﺭﺩ ﺶﯾﺍﺰﻓﺍ': 0.005212437439417372,\n",
              " 'ﻩﺰﻏ ﮓﻨﺟ': 0.005051965426420971,\n",
              " 'ﻉﺎﻓﺩ ﺕﺭﺍﺯﻭ': 0.004946609032197604,\n",
              " 'ﯽﺑﺮﻏ ﻥﺎﺠﯾﺎﺑﺭﺫﺁ': 0.0048472177228641965,\n",
              " 'ﻥﻮﻧﺎﻗ ﻩﺩﺎﻣ': 0.005531315193180867,\n",
              " 'ﺲﻠﺠﻣ ﺕﺎﺑﺎﺨﺘﻧﺍ': 0.005119920117018694,\n",
              " 'ﻪﺟﺩﻮﺑ ﻪﻣﺎﻧﺮﺑ': 0.0051530650708279556,\n",
              " 'ﻥﺎﺠﯾﺎﺑﺭﺫﺁ ﯼﺭﻮﻬﻤﺟ': 0.0054870183364479465,\n",
              " 'ﺭﻻﺩ ﺖﻤﯿﻗ': 0.005056314981399824,\n",
              " 'ﯽﻣﻮﻤﻋ ﻂﺑﺍﻭﺭ': 0.006389006919558225,\n",
              " 'ﻞﻠﻣ ﻥﺎﻣﺯﺎﺳ': 0.008459846091719098,\n",
              " 'ﻝﺎﺳ ﻥﺎﯾﺎﭘ': 0.005655552799487128,\n",
              " 'ﺖﺷﺍﺪﻬﺑ ﺕﺭﺍﺯﻭ': 0.0065071603797917195,\n",
              " 'ﺲﯿﻟﻮﭙﺳﺮﭘ ﻩﺎﮕﺷﺎﺑ': 0.0057772302563449856,\n",
              " 'ﻡﻮﻠﻋ ﻩﺎﮕﺸﻧﺍﺩ': 0.006127268531266847,\n",
              " 'ﻥﺍﺮﯾﺍ ﯽﻣﻼﺳﺍ': 0.008544047885835281,\n",
              " 'ﻞﯿﺋﺍﺮﺳﺍ ﻢﯾﮊﺭ': 0.005064224231469814,\n",
              " 'ﻥﺍﺮﯾﺍ ﯽﻠﻣ': 0.004867837962905216,\n",
              " 'ﯽﻣﻼﺳﺍ ﯼﺭﻮﻬﻤﺟ': 0.009880342500348168,\n",
              " 'ﯽﻋﺎﻤﺘﺟﺍ ﻦﯿﻣﺎﺗ': 0.0055466210368112995,\n",
              " 'ﻩﺎﻣ ﺮﻬﻣ': 0.005710985812813067,\n",
              " 'ﻪﻣﺎﻧﺮﺑ ﻥﺎﻣﺯﺎﺳ': 0.004806505405440431,\n",
              " 'ﯽﺑﻮﻨﺟ ﻥﺎﺳﺍﺮﺧ': 0.005578264788901666,\n",
              " 'ﻥﺍﺮﻬﺗ ﺮﻬﺷ': 0.006233747704137999,\n",
              " 'ﺩﺍﺯﺁ ﻩﺎﮕﺸﻧﺍﺩ': 0.004929596950781866,\n",
              " 'ﺭﻮﻬﻤﺟ ﺲﯿﯾﺭ': 0.004986972199037852,\n",
              " 'ﻪﺘﺷﺬﮔ ﻝﺎﺳ': 0.009525138514920903,\n",
              " 'ﻪﺒﻨﺷ ﺯﻭﺭ': 0.006670869479445234,\n",
              " 'ﯽﻠﻣ ﺖﯿﻨﻣﺍ': 0.005528512281068315,\n",
              " 'ﻪﻌﺳﻮﺗ ﻢﺘﻔﻫ': 0.006198778424342515,\n",
              " 'ﯽﻋﺎﻤﺘﺟﺍ ﻪﮑﺒﺷ': 0.005986866337998337,\n",
              " 'ﺱﺎﻤﺣ ﻦﯿﻄﺴﻠﻓ ﯽﻣﻼﺳﺍ': 0.003229070337804027,\n",
              " 'ﻪﯿﮐﺮﺗ ﺭﻮﻬﻤﺟ ﺲﯿﺋﺭ': 0.002998387857356212,\n",
              " 'ﯼﺯﺭﻭﺎﺸﮐ ﺩﺎﻬﺟ ﺕﺭﺍﺯﻭ': 0.0037839670635978423,\n",
              " 'ﺵﺭﻭﺮﭘ ﺵﺯﻮﻣﺁ ﺮﯾﺯﻭ': 0.004421127759130937,\n",
              " 'ﯽﻣﻮﻤﻋ ﻂﺑﺍﻭﺭ ﺮﯾﺪﻣ': 0.003005677540815561,\n",
              " 'ﯽﻣﻼﺳﺍ ﯼﺭﻮﻬﻤﺟ ﺶﺗﺭﺍ': 0.0034924821046996794,\n",
              " 'ﯽﻣﻼﺳﺍ ﯼﺭﺎﮑﻤﻫ ﻥﺎﻣﺯﺎﺳ': 0.003889482727628834,\n",
              " 'ﻢﯾﮊﺭ ﺶﺗﺭﺍ ﯼﻮﮕﻨﺨﺳ': 0.003139709389105913,\n",
              " 'ﻪﺟﺭﺎﺧ ﺕﺭﺍﺯﻭ ﯼﻮﮕﻨﺨﺳ': 0.0035849628621579016,\n",
              " 'ﻥﺎﻣﺭﺩ ﺖﺷﺍﺪﻬﺑ ﺕﺭﺍﺯﻭ': 0.0033711854449066264,\n",
              " 'ﻦﯿﻄﺴﻠﻓ ﯽﻣﻼﺳﺍ ﺖﻣﻭﺎﻘﻣ': 0.0035821202954291692,\n",
              " 'ﻥﺎﺘﺳﺍ ﺕﺎﺑﺎﺨﺘﻧﺍ ﺩﺎﺘﺳ': 0.0030377752309080955,\n",
              " 'ﻥﺎﻧﺍﻮﺟ ﺵﺯﺭﻭ ﻩﺭﺍﺩﺍ': 0.0033945817730557087,\n",
              " 'ﯼﺍﺭﻮﺷ ﺲﻠﺠﻣ ﺲﯿﺋﺭ': 0.003998686765000135,\n",
              " 'ﺎﮑﯾﺮﻣﺁ ﻪﺟﺭﺎﺧ ﺮﯾﺯﻭ': 0.003644851726737562,\n",
              " 'ﻪﻌﺳﻮﺗ ﻢﺘﻔﻫ ﻪﻣﺎﻧﺮﺑ': 0.006167860494585184,\n",
              " 'ﯽﻣﻼﺳﺍ ﯼﺍﺭﻮﺷ ﺲﻠﺠﻣ': 0.007904130572567128,\n",
              " 'ﯽﻠﻣ ﺖﯿﻨﻣﺍ ﻥﻮﯿﺴﯿﻤﮐ': 0.0036058370286066945,\n",
              " 'ﯼﺍﺭﻮﺷ ﺲﻠﺠﻣ ﻥﺎﮔﺪﻨﯾﺎﻤﻧ': 0.003794952609711999,\n",
              " 'ﻦﯿﻄﺴﻠﻓ ﺖﺷﺍﺪﻬﺑ ﺕﺭﺍﺯﻭ': 0.0041624379318237386,\n",
              " 'ﻪﺟﺩﻮﺑ ﻪﻣﺎﻧﺮﺑ ﻥﻮﯿﺴﯿﻤﮐ': 0.003106061897502101,\n",
              " 'ﯽﺘﺴﯿﻧﻮﯿﻬﺻ ﻢﯾﮊﺭ ﺕﺎﯾﺎﻨﺟ': 0.005071978021116173,\n",
              " 'ﻥﺍﺮﯾﺍ ﻝﺎﺒﺗﻮﻓ ﯽﻠﻣ': 0.003653300573125442,\n",
              " 'ﻦﯿﻄﺴﻠﻓ ﯽﻣﻼﺳﺍ ﺩﺎﻬﺟ': 0.0031001057390342346,\n",
              " 'ﯼﺯﺭﻭﺎﺸﮐ ﺩﺎﻬﺟ ﺮﯾﺪﻣ': 0.003050644439171832,\n",
              " 'ﻥﺎﻣﺯﺎﺳ ﯽﻣﻮﻤﻋ ﻂﺑﺍﻭﺭ': 0.003163077514393385,\n",
              " 'ﺱﺪﻘﻣ ﻉﺎﻓﺩ ﻪﺘﻔﻫ': 0.004365513493786674,\n",
              " 'ﻦﯿﻄﺴﻠﻓ ﺖﻣﻭﺎﻘﻣ ﻭﺮﯿﻧ': 0.003894879402918114,\n",
              " 'ﯽﻠﻣ ﺖﯿﻨﻣﺍ ﯼﺍﺭﻮﺷ': 0.0037645622099499727,\n",
              " 'ﺮﺗﺮﺑ ﮓﯿﻟ ﺖﺑﺎﻗﺭ': 0.0032931101367166082,\n",
              " 'ﯽﺘﺴﯿﻧﻮﯿﻬﺻ ﻢﯾﮊﺭ ﻪﻠﻤﺣ': 0.003234129530639454,\n",
              " 'ﯽﻣﻼﺳﺍ ﺩﺍﺯﺁ ﻩﺎﮕﺸﻧﺍﺩ': 0.0044272269972704306,\n",
              " 'ﺎﮑﯾﺮﻣﺁ ﻪﺟﺭﺎﺧ ﺕﺭﺍﺯﻭ': 0.0033003553334613888,\n",
              " 'ﺮﻬﺷ ﯽﻣﻼﺳﺍ ﯼﺍﺭﻮﺷ': 0.004780174790644466,\n",
              " 'ﺎﮑﯾﺮﻣﺁ ﻪﺟﺭﺎﺧ ﺭﻮﻣﺍ': 0.0035968448685043514,\n",
              " 'ﯽﻣﻼﺳﺍ ﺩﺎﻬﺟ ﺱﺎﻤﺣ': 0.0030832855673662758,\n",
              " 'ﺮﺗﺮﺑ ﮓﯿﻟ ﺕﺎﻘﺑﺎﺴﻣ': 0.0029901915631883485,\n",
              " 'ﻥﺍﺮﯾﺍ ﯽﻠﻣ ﻢﯿﺗ': 0.004213700965162049,\n",
              " 'ﻥﺎﻣﺯﺎﺳ ﺖﯿﻨﻣﺍ ﯼﺍﺭﻮﺷ': 0.004265453367263215,\n",
              " 'ﻪﻣﺎﻧﺮﺑ ﻥﺎﻣﺯﺎﺳ ﺲﯿﺋﺭ': 0.0033360390265724884,\n",
              " 'ﻥﺍﺮﻬﺗ ﺮﻬﺷ ﯼﺍﺭﻮﺷ': 0.0035666791607883463,\n",
              " 'ﯽﺘﺴﯿﻧﻮﯿﻬﺻ ﻢﯾﮊﺭ ﺖﯾﺎﻨﺟ': 0.003837688147065104,\n",
              " 'ﺵﺭﻭﺮﭘ ﺵﺯﻮﻣﺁ ﻩﺭﺍﺩﺍ': 0.0030112244314185613,\n",
              " 'ﻩﺰﻏ ﺖﺷﺍﺪﻬﺑ ﺕﺭﺍﺯﻭ': 0.0035241345959003897,\n",
              " 'ﻕﺍﺮﻋ ﯽﻣﻼﺳﺍ ﺖﻣﻭﺎﻘﻣ': 0.00299278549985439,\n",
              " 'ﯽﻣﻼﺳﺍ ﺏﻼﻘﻧﺍ ﯼﺯﻭﺮﯿﭘ': 0.003355707071585424,\n",
              " 'ﻞﯿﺋﺍﺮﺳﺍ ﺱﺎﻤﺣ ﻪﻠﻤﺣ': 0.003218166796595788,\n",
              " 'ﯼﺯﺭﻭﺎﺸﮐ ﺩﺎﻬﺟ ﺮﯾﺯﻭ': 0.0032941474317201365,\n",
              " 'ﻥﺎﻧﺍﻮﺟ ﺵﺯﺭﻭ ﺕﺭﺍﺯﻭ': 0.003423310556828513,\n",
              " 'ﻪﺘﺷﺬﮔ ﻝﺎﺳ ﻩﺎﻣ': 0.0030103726074280383,\n",
              " 'ﻪﺟﺭﺎﺧ ﺭﻮﻣﺍ ﺕﺭﺍﺯﻭ': 0.005418592900841052,\n",
              " 'ﯽﺘﺴﯿﻧﻮﯿﻬﺻ ﻢﯾﮊﺭ ﺕﻼﻤﺣ': 0.004343454909532806,\n",
              " 'ﻥﺍﺮﯾﺍ ﺭﺎﻣﺁ ﺰﮐﺮﻣ': 0.003095720942957396,\n",
              " 'ﻪﯿﺳﻭﺭ ﺭﻮﻬﻤﺟ ﺲﯿﺋﺭ': 0.0032420427595628866,\n",
              " 'ﻞﻠﻣ ﻥﺎﻣﺯﺎﺳ ﯽﻣﻮﻤﻋ': 0.004623137957742765,\n",
              " 'ﻝﻼﻘﺘﺳﺍ ﻝﺎﺒﺗﻮﻓ ﻢﯿﺗ': 0.003405820994579542,\n",
              " 'ﯽﺑﺮﻏ ﻥﺎﺠﯾﺎﺑﺭﺫﺁ ﻥﺎﺘﺳﺍ': 0.0030090938211002755,\n",
              " 'ﯽﻣﻮﻤﻋ ﮓﻨﻫﺮﻓ ﯼﺍﺭﻮﺷ': 0.002986724832665213,\n",
              " 'ﯽﻧﺎﻬﺟ ﺖﺷﺍﺪﻬﺑ ﻥﺎﻣﺯﺎﺳ': 0.003014201418004468,\n",
              " 'ﻪﺟﺭﺎﺧ ﺭﻮﻣﺍ ﺮﯾﺯﻭ': 0.006700467319465702,\n",
              " 'ﯽﮑﺷﺰﭘ ﻡﻮﻠﻋ ﻩﺎﮕﺸﻧﺍﺩ': 0.006030950364137681,\n",
              " 'ﻪﺟﺩﻮﺑ ﻪﻣﺎﻧﺮﺑ ﻥﺎﻣﺯﺎﺳ': 0.004666715280427587,\n",
              " 'ﻦﯿﻄﺴﻠﻓ ﻡﺩﺮﻣ ﺖﯾﺎﻤﺣ': 0.003406780357198328,\n",
              " 'ﻥﺍﺮﯾﺍ ﯽﻣﻼﺳﺍ ﯼﺭﻮﻬﻤﺟ': 0.008381210315641211,\n",
              " 'ﯽﺼﻗﻻﺍ ﻥﺎﻓﻮﻃ ﺕﺎﯿﻠﻤﻋ': 0.006647673941588857,\n",
              " 'ﺭﻮﺸﮐ ﻪﺟﺩﻮﺑ ﻪﻣﺎﻧﺮﺑ': 0.0030735775835956046,\n",
              " 'ﺭﻮﻣﺍ ﺕﺭﺍﺯﻭ ﯼﻮﮕﻨﺨﺳ': 0.003920683306697123,\n",
              " 'ﯼﺍﺭﻮﺷ ﺲﻠﺠﻣ ﺕﺎﺑﺎﺨﺘﻧﺍ': 0.0038672439504722216,\n",
              " 'ﺲﻠﺠﻣ ﺕﺎﺑﺎﺨﺘﻧﺍ ﻩﺭﻭﺩ': 0.003108041402395633,\n",
              " 'ﻝﺎﺳ ﻪﺟﺩﻮﺑ ﻥﻮﻧﺎﻗ': 0.003046092388458168,\n",
              " 'ﻥﺍﺮﯾﺍ ﻪﺟﺭﺎﺧ ﺭﻮﻣﺍ': 0.0036858518330633917,\n",
              " 'ﺖﺷﺍﺪﻬﺑ ﯽﻧﺎﻬﺟ ﻥﺎﻣﺯﺎﺳ': 0.0030780359022168514,\n",
              " 'ﯽﺘﺴﯿﻧﻮﯿﻬﺻ ﻢﯾﮊﺭ ﺶﺗﺭﺍ': 0.006188965238902809,\n",
              " 'ﯽﺘﯿﻨﻣﺍ ﯽﺳﺎﯿﺳ ﻥﻭﺎﻌﻣ': 0.0034927838373140234,\n",
              " 'ﻝﺎﺒﺗﻮﻓ ﺮﺗﺮﺑ ﮓﯿﻟ': 0.003617838853475226,\n",
              " 'ﺎﮑﯾﺮﻣﺁ ﻉﺎﻓﺩ ﺮﯾﺯﻭ': 0.002998387857356212,\n",
              " 'ﺩﺍﺯﺁ ﻪﻘﻄﻨﻣ ﻥﺎﻣﺯﺎﺳ': 0.003126897436223715,\n",
              " 'ﺭﻮﺸﮐ ﺕﺎﺑﺎﺨﺘﻧﺍ ﺩﺎﺘﺳ': 0.0029880259511758504,\n",
              " 'ﻥﺍﺮﻬﺗ ﺮﻬﺷ ﯽﻣﻼﺳﺍ': 0.003657643574769317,\n",
              " 'ﻥﺎﺘﺳﺍ ﯼﺯﺭﻭﺎﺸﮐ ﺩﺎﻬﺟ': 0.0034352741292308082,\n",
              " 'ﺵﺭﻭﺮﭘ ﺵﺯﻮﻣﺁ ﻞﮐﺮﯾﺪﻣ': 0.0031774344516337597,\n",
              " 'ﻥﺎﺘﺳﺍ ﺵﺭﻭﺮﭘ ﺵﺯﻮﻣﺁ': 0.003775930816841601,\n",
              " 'ﯽﻣﻼﺳﺍ ﯼﺭﻮﻬﻤﺟ ﻡﺎﻈﻧ': 0.0036853192013727317,\n",
              " 'ﺎﮑﯾﺮﻣﺁ ﻥﺎﮔﺪﻨﯾﺎﻤﻧ ﺲﻠﺠﻣ': 0.0033675776373995932,\n",
              " 'ﯽﻋﺎﻤﺘﺟﺍ ﻦﯿﻣﺎﺗ ﻥﺎﻣﺯﺎﺳ': 0.0038228322381881085,\n",
              " 'ﺲﯿﻟﻮﭙﺳﺮﭘ ﻝﺎﺒﺗﻮﻓ ﻢﯿﺗ': 0.003991177429803928,\n",
              " 'ﯽﻋﺎﻤﺘﺟﺍ ﻦﯿﻣﺄﺗ ﻥﺎﻣﺯﺎﺳ': 0.0032602165696125262,\n",
              " 'ﺎﯿﺳﺁ ﺏﺮﻏ ﻪﻘﻄﻨﻣ': 0.003007386807315942,\n",
              " 'ﯼﺩﺎﺼﺘﻗﺍ ﺖﯿﻨﻣﺍ ﺲﯿﻠﭘ': 0.0032823467176351147,\n",
              " 'ﯽﮕﻨﻫﺮﻓ ﺏﻼﻘﻧﺍ ﯼﺍﺭﻮﺷ': 0.004215456431857827,\n",
              " 'ﯽﻠﻣ ﻢﯿﺗ ﯼﺯﺎﺑ': 0.0030192889975940882,\n",
              " 'ﯼﺩﺍﺯﺁ ﯽﮔﺪﻧﺯ ﻥﺯ': 0.003439970070755881,\n",
              " 'ﯽﺘﺴﯿﻧﻮﯿﻬﺻ ﻢﯾﮊﺭ ﮓﻨﺟ': 0.003622281138386052,\n",
              " 'ﻝﺎﺒﺗﻮﻓ ﻥﻮﯿﺳﺍﺭﺪﻓ ﺲﯿﺋﺭ': 0.0031706526112353483,\n",
              " 'ﺎﮑﯾﺮﻣﺁ ﺭﻮﻬﻤﺟ ﺲﯿﺋﺭ': 0.0039011925572191414,\n",
              " 'ﻝﺎﺒﺗﻮﻓ ﯽﻠﻣ ﻢﯿﺗ': 0.005117560115633035,\n",
              " 'ﻥﺍﺮﯾﺍ ﯽﻣﻼﺳﺍ ﺏﻼﻘﻧﺍ': 0.003070325713852937,\n",
              " 'ﺭﻮﻬﻤﺟ ﺲﯿﺋﺭ ﻥﻭﺎﻌﻣ': 0.0039940525178640855,\n",
              " 'ﺱﺪﻘﻣ ﻉﺎﻓﺩ ﻝﺎﺳ': 0.003364290006470969,\n",
              " 'ﯽﺘﺴﯿﻧﻮﯿﻬﺻ ﻢﯾﮊﺭ ﺮﯾﺯﻭ': 0.00328999369100267,\n",
              " 'ﯼﺯﺭﻭﺎﺸﮐ ﺩﺎﻬﺟ ﻥﺎﻣﺯﺎﺳ': 0.004254227240370091,\n",
              " 'ﺵﺭﻭﺮﭘ ﺵﺯﻮﻣﺁ ﺕﺭﺍﺯﻭ': 0.004672863990287764}"
            ]
          },
          "execution_count": 21,
          "metadata": {},
          "output_type": "execute_result"
        }
      ],
      "source": [
        "suitable_1grams= itemCandidate.map(lambda x: x[0]).flatMap(lambda x:x).map(lambda x: (x[1] , 2**np.log10(x[0]))).collect()\n",
        "\n",
        "result = suitable_2grams + suitable_3grams\n",
        "zz = list(map(list, zip(*result)))\n",
        "words = zz[0]\n",
        "count = zz[1]\n",
        "count = zz[1] / np.sum(count)\n",
        "\n",
        "final_dict = {}\n",
        "for i in range (0,len(words)):\n",
        "  final_dict[get_display(reshape(words[i]))] = count[i]\n",
        "final_dict\n",
        "\n",
        "# from PIL import Image\n",
        "# from wordcloud_fa import WordCloudFa\n",
        "# mask = np.array(Image.open(\"mask.png\"))\n",
        "# wodcloud = WordCloudFa(persian_normalize=False, include_numbers=False, background_color=\"white\", mask=mask)\n",
        "# wc = wodcloud.generate_from_frequencies(final_dict)\n",
        "# image = wc.to_image()\n",
        "# image.show()\n",
        "# image.save('persian-example.png')\n"
      ]
    },
    {
      "cell_type": "code",
      "execution_count": null,
      "id": "21a60384",
      "metadata": {
        "id": "21a60384",
        "outputId": "6421fa7c-9666-40f2-9f6e-53f58f05c3ca"
      },
      "outputs": [
        {
          "ename": "AttributeError",
          "evalue": "'ImageDraw' object has no attribute 'textsize'",
          "output_type": "error",
          "traceback": [
            "\u001b[0;31m---------------------------------------------------------------------------\u001b[0m",
            "\u001b[0;31mAttributeError\u001b[0m                            Traceback (most recent call last)",
            "Cell \u001b[0;32mIn[30], line 5\u001b[0m\n\u001b[1;32m      3\u001b[0m mask \u001b[38;5;241m=\u001b[39m np\u001b[38;5;241m.\u001b[39marray(Image\u001b[38;5;241m.\u001b[39mopen(\u001b[38;5;124m\"\u001b[39m\u001b[38;5;124mmask.png\u001b[39m\u001b[38;5;124m\"\u001b[39m))\n\u001b[1;32m      4\u001b[0m wodcloud \u001b[38;5;241m=\u001b[39m WordCloudFa(persian_normalize\u001b[38;5;241m=\u001b[39m\u001b[38;5;28;01mFalse\u001b[39;00m, include_numbers\u001b[38;5;241m=\u001b[39m\u001b[38;5;28;01mFalse\u001b[39;00m, background_color\u001b[38;5;241m=\u001b[39m\u001b[38;5;124m\"\u001b[39m\u001b[38;5;124mwhite\u001b[39m\u001b[38;5;124m\"\u001b[39m, mask\u001b[38;5;241m=\u001b[39mmask)\n\u001b[0;32m----> 5\u001b[0m wc \u001b[38;5;241m=\u001b[39m \u001b[43mwodcloud\u001b[49m\u001b[38;5;241;43m.\u001b[39;49m\u001b[43mgenerate_from_frequencies\u001b[49m\u001b[43m(\u001b[49m\u001b[43mfinal_dict\u001b[49m\u001b[43m)\u001b[49m\n\u001b[1;32m      6\u001b[0m image \u001b[38;5;241m=\u001b[39m wc\u001b[38;5;241m.\u001b[39mto_image()\n\u001b[1;32m      7\u001b[0m image\u001b[38;5;241m.\u001b[39mshow()\n",
            "File \u001b[0;32m~/anaconda3/envs/DD/lib/python3.10/site-packages/wordcloud_fa/WordCloudFa.py:188\u001b[0m, in \u001b[0;36mWordCloudFa.generate_from_frequencies\u001b[0;34m(self, frequencies, max_font_size)\u001b[0m\n\u001b[1;32m    185\u001b[0m     words \u001b[38;5;241m=\u001b[39m WordCloudFa\u001b[38;5;241m.\u001b[39mnormalize_words(words)\n\u001b[1;32m    187\u001b[0m new_frequencies \u001b[38;5;241m=\u001b[39m \u001b[38;5;28mdict\u001b[39m(\u001b[38;5;28mzip\u001b[39m(words, values))\n\u001b[0;32m--> 188\u001b[0m \u001b[38;5;28;01mreturn\u001b[39;00m \u001b[38;5;28;43msuper\u001b[39;49m\u001b[43m(\u001b[49m\u001b[43m)\u001b[49m\u001b[38;5;241;43m.\u001b[39;49m\u001b[43mgenerate_from_frequencies\u001b[49m\u001b[43m(\u001b[49m\u001b[43mnew_frequencies\u001b[49m\u001b[43m,\u001b[49m\u001b[43m \u001b[49m\u001b[43mmax_font_size\u001b[49m\u001b[43m)\u001b[49m\n",
            "File \u001b[0;32m~/anaconda3/envs/DD/lib/python3.10/site-packages/wordcloud/wordcloud.py:453\u001b[0m, in \u001b[0;36mWordCloud.generate_from_frequencies\u001b[0;34m(self, frequencies, max_font_size)\u001b[0m\n\u001b[1;32m    451\u001b[0m     font_size \u001b[38;5;241m=\u001b[39m \u001b[38;5;28mself\u001b[39m\u001b[38;5;241m.\u001b[39mheight\n\u001b[1;32m    452\u001b[0m \u001b[38;5;28;01melse\u001b[39;00m:\n\u001b[0;32m--> 453\u001b[0m     \u001b[38;5;28;43mself\u001b[39;49m\u001b[38;5;241;43m.\u001b[39;49m\u001b[43mgenerate_from_frequencies\u001b[49m\u001b[43m(\u001b[49m\u001b[38;5;28;43mdict\u001b[39;49m\u001b[43m(\u001b[49m\u001b[43mfrequencies\u001b[49m\u001b[43m[\u001b[49m\u001b[43m:\u001b[49m\u001b[38;5;241;43m2\u001b[39;49m\u001b[43m]\u001b[49m\u001b[43m)\u001b[49m\u001b[43m,\u001b[49m\n\u001b[1;32m    454\u001b[0m \u001b[43m                                   \u001b[49m\u001b[43mmax_font_size\u001b[49m\u001b[38;5;241;43m=\u001b[39;49m\u001b[38;5;28;43mself\u001b[39;49m\u001b[38;5;241;43m.\u001b[39;49m\u001b[43mheight\u001b[49m\u001b[43m)\u001b[49m\n\u001b[1;32m    455\u001b[0m     \u001b[38;5;66;03m# find font sizes\u001b[39;00m\n\u001b[1;32m    456\u001b[0m     sizes \u001b[38;5;241m=\u001b[39m [x[\u001b[38;5;241m1\u001b[39m] \u001b[38;5;28;01mfor\u001b[39;00m x \u001b[38;5;129;01min\u001b[39;00m \u001b[38;5;28mself\u001b[39m\u001b[38;5;241m.\u001b[39mlayout_]\n",
            "File \u001b[0;32m~/anaconda3/envs/DD/lib/python3.10/site-packages/wordcloud_fa/WordCloudFa.py:188\u001b[0m, in \u001b[0;36mWordCloudFa.generate_from_frequencies\u001b[0;34m(self, frequencies, max_font_size)\u001b[0m\n\u001b[1;32m    185\u001b[0m     words \u001b[38;5;241m=\u001b[39m WordCloudFa\u001b[38;5;241m.\u001b[39mnormalize_words(words)\n\u001b[1;32m    187\u001b[0m new_frequencies \u001b[38;5;241m=\u001b[39m \u001b[38;5;28mdict\u001b[39m(\u001b[38;5;28mzip\u001b[39m(words, values))\n\u001b[0;32m--> 188\u001b[0m \u001b[38;5;28;01mreturn\u001b[39;00m \u001b[38;5;28;43msuper\u001b[39;49m\u001b[43m(\u001b[49m\u001b[43m)\u001b[49m\u001b[38;5;241;43m.\u001b[39;49m\u001b[43mgenerate_from_frequencies\u001b[49m\u001b[43m(\u001b[49m\u001b[43mnew_frequencies\u001b[49m\u001b[43m,\u001b[49m\u001b[43m \u001b[49m\u001b[43mmax_font_size\u001b[49m\u001b[43m)\u001b[49m\n",
            "File \u001b[0;32m~/anaconda3/envs/DD/lib/python3.10/site-packages/wordcloud/wordcloud.py:508\u001b[0m, in \u001b[0;36mWordCloud.generate_from_frequencies\u001b[0;34m(self, frequencies, max_font_size)\u001b[0m\n\u001b[1;32m    505\u001b[0m transposed_font \u001b[38;5;241m=\u001b[39m ImageFont\u001b[38;5;241m.\u001b[39mTransposedFont(\n\u001b[1;32m    506\u001b[0m     font, orientation\u001b[38;5;241m=\u001b[39morientation)\n\u001b[1;32m    507\u001b[0m \u001b[38;5;66;03m# get size of resulting text\u001b[39;00m\n\u001b[0;32m--> 508\u001b[0m box_size \u001b[38;5;241m=\u001b[39m \u001b[43mdraw\u001b[49m\u001b[38;5;241;43m.\u001b[39;49m\u001b[43mtextsize\u001b[49m(word, font\u001b[38;5;241m=\u001b[39mtransposed_font)\n\u001b[1;32m    509\u001b[0m \u001b[38;5;66;03m# find possible places using integral image:\u001b[39;00m\n\u001b[1;32m    510\u001b[0m result \u001b[38;5;241m=\u001b[39m occupancy\u001b[38;5;241m.\u001b[39msample_position(box_size[\u001b[38;5;241m1\u001b[39m] \u001b[38;5;241m+\u001b[39m \u001b[38;5;28mself\u001b[39m\u001b[38;5;241m.\u001b[39mmargin,\n\u001b[1;32m    511\u001b[0m                                    box_size[\u001b[38;5;241m0\u001b[39m] \u001b[38;5;241m+\u001b[39m \u001b[38;5;28mself\u001b[39m\u001b[38;5;241m.\u001b[39mmargin,\n\u001b[1;32m    512\u001b[0m                                    random_state)\n",
            "\u001b[0;31mAttributeError\u001b[0m: 'ImageDraw' object has no attribute 'textsize'"
          ]
        }
      ],
      "source": [
        "from PIL import Image\n",
        "from wordcloud_fa import WordCloudFa\n",
        "mask = np.array(Image.open(\"mask.png\"))\n",
        "wodcloud = WordCloudFa(persian_normalize=False, include_numbers=False, background_color=\"white\", mask=mask)\n",
        "wc = wodcloud.generate_from_frequencies(final_dict)\n",
        "image = wc.to_image()\n",
        "image.show()\n",
        "image.save('persian-example.png')"
      ]
    },
    {
      "cell_type": "code",
      "execution_count": null,
      "id": "G1jWhop_BtP9",
      "metadata": {
        "id": "G1jWhop_BtP9",
        "outputId": "070dc975-b8aa-417a-d396-45c1b6def04a"
      },
      "outputs": [
        {
          "name": "stderr",
          "output_type": "stream",
          "text": [
            "                                                                                \r"
          ]
        },
        {
          "data": {
            "image/png": "[encoded data removed]",
            "text/plain": [
              "<Figure size 1500x800 with 1 Axes>"
            ]
          },
          "metadata": {},
          "output_type": "display_data"
        }
      ],
      "source": [
        "# p4\n",
        "\n",
        "from datetime import datetime\n",
        "\n",
        "\n",
        "timeline = cleaned.map(lambda x: ( datetime.fromtimestamp(x['date_published']).strftime(\"%Y-%m-%d\"), 1)).reduceByKey(lambda x,y : x+y).sortByKey().collect()\n",
        "\n",
        "counts = [x[1] for x in timeline]\n",
        "dates = [ x[0] for x in timeline]\n",
        "\n",
        "plt.figure(figsize=(15, 8))\n",
        "indices = np.arange(len(timeline))\n",
        "plt.bar(indices, counts)\n",
        "plt.xticks(indices, dates, rotation='vertical')\n",
        "plt.show()"
      ]
    },
    {
      "cell_type": "code",
      "execution_count": null,
      "id": "5pl4iH5-Ckco",
      "metadata": {
        "id": "5pl4iH5-Ckco",
        "outputId": "f049e85f-c571-44f3-e669-ba1ceecc5d06"
      },
      "outputs": [
        {
          "name": "stderr",
          "output_type": "stream",
          "text": [
            "                                                                                \r"
          ]
        },
        {
          "data": {
            "image/png": "[encoded data removed]",
            "text/plain": [
              "<Figure size 1500x800 with 1 Axes>"
            ]
          },
          "metadata": {},
          "output_type": "display_data"
        }
      ],
      "source": [
        "# p5\n",
        "\n",
        "def contain(text):\n",
        "    textS= ngrams(text,3)+ngrams(text,2)\n",
        "    for w in words :\n",
        "      if w in textS:\n",
        "        return True\n",
        "\n",
        "    return False\n",
        "\n",
        "timeline2 = cleaned.map(lambda x: (x['body'],datetime.fromtimestamp(x['date_published']).strftime(\"%Y-%m-%d\"))).filter(lambda x : contain(x[0])).map(lambda x: (x[1],1)).reduceByKey(lambda x,y : x+y).sortByKey().collect()\n",
        "\n",
        "counts = [x[1] for x in timeline2]\n",
        "dates = [ x[0] for x in timeline2]\n",
        "\n",
        "plt.figure(figsize=(15, 8))\n",
        "indices = np.arange(len(timeline2))\n",
        "plt.bar(indices, counts)\n",
        "plt.xticks(indices, dates, rotation='vertical')\n",
        "plt.show()"
      ]
    },
    {
      "cell_type": "markdown",
      "id": "bafdc7f3",
      "metadata": {
        "id": "bafdc7f3"
      },
      "source": [
        "# Section 4: Son, A-prior algorithm\n",
        "- In this section we want to find 3-sets words collections that appear together the most.\n",
        "    - What is your idea to solve the problem?\n",
        "    - Implement an algorithm for doing so.\n",
        "    - What is the most pertinant 3-sets words?\n",
        "- Now we want to test the results and know that how valid is the model.\n",
        "    - How we can test the model?\n",
        "    - Explain and implement a scenario to test the model with using `tf-idf`."
      ]
    },
    {
      "cell_type": "code",
      "execution_count": null,
      "id": "37719fd8",
      "metadata": {
        "id": "37719fd8"
      },
      "outputs": [],
      "source": [
        "# TODO: find the answers of the above questions.\n"
      ]
    },
    {
      "cell_type": "markdown",
      "id": "tpV7fPZiA4il",
      "metadata": {
        "id": "tpV7fPZiA4il"
      },
      "source": [
        "In last section I used A-prior algorithm to find most frequent keywords. I used keywords as candidate of 2_sets and 3_sets candidate.\n",
        "\n",
        "\n",
        "3-sets words collections that appear together the most is :"
      ]
    },
    {
      "cell_type": "code",
      "execution_count": null,
      "id": "c83aB4BYB1LB",
      "metadata": {
        "id": "c83aB4BYB1LB",
        "outputId": "d94daa97-52e6-4d54-ac55-2ce6faa7c1fc"
      },
      "outputs": [
        {
          "name": "stderr",
          "output_type": "stream",
          "text": [
            "                                                                                \r"
          ]
        },
        {
          "data": {
            "text/plain": [
              "[(63824, 'جمهوری اسلامی ایران'),\n",
              " (52533, 'مجلس شورای اسلامی'),\n",
              " (30345, 'وزیر امور خارجه'),\n",
              " (29558, 'عملیات طوفان الاقصی'),\n",
              " (23309, 'ارتش رژیم صهیونیستی'),\n",
              " (23046, 'برنامه هفتم توسعه'),\n",
              " (21390, 'دانشگاه علوم پزشکی'),\n",
              " (20586, 'سازمان ملل متحد'),\n",
              " (19585, 'هزار میلیارد تومان'),\n",
              " (19318, 'مقام معظم رهبری'),\n",
              " (18248, 'گزارش سایت قطره'),\n",
              " (18248, 'سایت قطره نقل'),\n",
              " (16751, 'لیگ قهرمانان آسیا'),\n",
              " (16491, 'گزارش خبرگزاری فارس'),\n",
              " (15951, 'گزارش خبرگزاری مهر'),\n",
              " (15855, 'میلیون هزار تومان'),\n",
              " (15755, 'گزارش خبرنگار مهر'),\n",
              " (15215, 'دستور کار قرار'),\n",
              " (14988, 'وزارت امور خارجه'),\n",
              " (14621, 'امام خمینی ره')]"
            ]
          },
          "execution_count": 25,
          "metadata": {},
          "output_type": "execute_result"
        }
      ],
      "source": [
        "sets3.top(20)"
      ]
    },
    {
      "cell_type": "markdown",
      "id": "KtFHX9l_RY3q",
      "metadata": {
        "id": "KtFHX9l_RY3q"
      },
      "source": [
        "# p2\n",
        " Since the ratio inside the idf's log function is always greater than or equal to 1, the value of idf (and tf–idf) is greater than or equal to 0. As a term appears in more documents, the ratio inside the logarithm approaches 1, bringing the idf and tf–idf closer to 0.\n",
        " so sum(tf-idf of the most frequent 3-sets item in d) must be less than others\n",
        "\n",
        "In below we calculated tf_idf(t)= ∑tf_idf(t,d), d ∈ D  and t ∈ sets3\n",
        "\n",
        "\n",
        "\n"
      ]
    },
    {
      "cell_type": "code",
      "execution_count": null,
      "id": "nRfR3d-llfqA",
      "metadata": {
        "id": "nRfR3d-llfqA"
      },
      "outputs": [],
      "source": [
        "def contain2(text,t):\n",
        "  textS= ngrams(text,3)\n",
        "  if t in textS:\n",
        "    return True\n",
        "  return False\n"
      ]
    },
    {
      "cell_type": "code",
      "execution_count": null,
      "id": "d9813qfGHRdb",
      "metadata": {
        "id": "d9813qfGHRdb",
        "outputId": "fb34fef2-156f-4e94-abf4-49c4565060e3"
      },
      "outputs": [
        {
          "name": "stderr",
          "output_type": "stream",
          "text": [
            "                                                                                \r"
          ]
        },
        {
          "name": "stdout",
          "output_type": "stream",
          "text": [
            "مجلس شورای اسلامی 394.06058395619834\n"
          ]
        },
        {
          "name": "stderr",
          "output_type": "stream",
          "text": [
            "                                                                                \r"
          ]
        },
        {
          "name": "stdout",
          "output_type": "stream",
          "text": [
            "وزیر امور خارجه 298.60429174533544\n"
          ]
        },
        {
          "name": "stderr",
          "output_type": "stream",
          "text": [
            "                                                                                \r"
          ]
        },
        {
          "name": "stdout",
          "output_type": "stream",
          "text": [
            "جمهوری اسلامی ایران 395.1347024769405\n"
          ]
        },
        {
          "name": "stderr",
          "output_type": "stream",
          "text": [
            "                                                                                \r"
          ]
        },
        {
          "name": "stdout",
          "output_type": "stream",
          "text": [
            "دفتر سیاسی حماس 38.764648887002295\n"
          ]
        },
        {
          "name": "stderr",
          "output_type": "stream",
          "text": [
            "                                                                                \r"
          ]
        },
        {
          "name": "stdout",
          "output_type": "stream",
          "text": [
            "ارتش رژیم صهیونیستی 222.02261064056975\n"
          ]
        },
        {
          "name": "stderr",
          "output_type": "stream",
          "text": [
            "                                                                                \r"
          ]
        },
        {
          "name": "stdout",
          "output_type": "stream",
          "text": [
            "اسلامی فلسطین حماس 36.10264089079054\n"
          ]
        },
        {
          "name": "stderr",
          "output_type": "stream",
          "text": [
            "                                                                                \r"
          ]
        },
        {
          "name": "stdout",
          "output_type": "stream",
          "text": [
            "عملیات طوفان الاقصی 237.83182059468064\n"
          ]
        },
        {
          "name": "stderr",
          "output_type": "stream",
          "text": [
            "                                                                                \r"
          ]
        },
        {
          "name": "stdout",
          "output_type": "stream",
          "text": [
            "رئیس جمهور ترکیه 37.62711073667745\n"
          ]
        },
        {
          "name": "stderr",
          "output_type": "stream",
          "text": [
            "                                                                                \r"
          ]
        },
        {
          "name": "stdout",
          "output_type": "stream",
          "text": [
            "گزارش اینتیتر نقل 68.11215370826471\n"
          ]
        },
        {
          "name": "stderr",
          "output_type": "stream",
          "text": [
            "[Stage 59:=====================================================>(188 + 1) / 189]\r"
          ]
        },
        {
          "name": "stdout",
          "output_type": "stream",
          "text": [
            "هزار میلیارد ریال 101.39806701718568\n"
          ]
        },
        {
          "name": "stderr",
          "output_type": "stream",
          "text": [
            "\r",
            "                                                                                \r"
          ]
        }
      ],
      "source": [
        "N = news_rdd.count()\n",
        "\n",
        "word_to_check1= shingeled3.top(5)\n",
        "word_to_check2= shingeled3.take(5)\n",
        "\n",
        "tfwords =list(set(word_to_check1+ word_to_check2))\n",
        "for ww, tt in tfwords :\n",
        "  nt = cleaned.map(lambda x: x['body']).filter(lambda x : contain2(x,tt)).count()\n",
        "  ft = cleaned.map(lambda x: (x['body'], len(x['body'].split()))).map(lambda x : (ngrams(x[0],3) ,x[1])).map(lambda x : (x[0].count(tt), x[1])).map(lambda x : x[0]/x[1]).sum()\n",
        "  print(tt , ft* log10(1+ (N/nt)))\n",
        "\n"
      ]
    },
    {
      "cell_type": "code",
      "execution_count": null,
      "id": "8xaP9D5BIY-3",
      "metadata": {
        "id": "8xaP9D5BIY-3",
        "outputId": "256a8846-c8b6-4c04-92bd-651207bc3a8d"
      },
      "outputs": [
        {
          "data": {
            "text/plain": [
              "[(52533, 'مجلس شورای اسلامی'),\n",
              " (30345, 'وزیر امور خارجه'),\n",
              " (63824, 'جمهوری اسلامی ایران'),\n",
              " (2571, 'دفتر سیاسی حماس'),\n",
              " (23309, 'ارتش رژیم صهیونیستی'),\n",
              " (2685, 'اسلامی فلسطین حماس'),\n",
              " (29558, 'عملیات طوفان الاقصی'),\n",
              " (2099, 'رئیس جمهور ترکیه'),\n",
              " (3462, 'گزارش اینتیتر نقل'),\n",
              " (7173, 'هزار میلیارد ریال')]"
            ]
          },
          "execution_count": 29,
          "metadata": {},
          "output_type": "execute_result"
        }
      ],
      "source": [
        "tfwords"
      ]
    }
  ],
  "metadata": {
    "colab": {
      "provenance": []
    },
    "kernelspec": {
      "display_name": "my-python3-kernel",
      "language": "python",
      "name": "my-python3-kernel"
    },
    "language_info": {
      "codemirror_mode": {
        "name": "ipython",
        "version": 3
      },
      "file_extension": ".py",
      "mimetype": "text/x-python",
      "name": "python",
      "nbconvert_exporter": "python",
      "pygments_lexer": "ipython3",
      "version": "3.10.13"
    }
  },
  "nbformat": 4,
  "nbformat_minor": 5
}